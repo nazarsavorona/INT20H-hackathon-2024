{
 "cells": [
  {
   "cell_type": "code",
   "execution_count": null,
   "metadata": {},
   "outputs": [],
   "source": [
    "from ultralytics import YOLO\n",
    "import datetime"
   ]
  },
  {
   "cell_type": "code",
   "execution_count": null,
   "metadata": {},
   "outputs": [],
   "source": [
    "model_name = './runs/classify/2024-02-11_21-42-15__pneumonia_classification_all_10epochs/weights/best.pt' #'yolov8m-cls.pt'\n",
    "data_file = 'pneumonia_classification_all'\n",
    "\n",
    "num_epochs = 5"
   ]
  },
  {
   "cell_type": "code",
   "execution_count": null,
   "metadata": {},
   "outputs": [],
   "source": [
    "experiment_name = f'{datetime.datetime.now().strftime(\"%Y-%m-%d_%H-%M-%S\")}_{model_name.split(\".\")[0]}_{data_file}_{num_epochs}epochs'"
   ]
  },
  {
   "cell_type": "code",
   "execution_count": null,
   "metadata": {},
   "outputs": [],
   "source": [
    "model = YOLO(model_name)"
   ]
  },
  {
   "cell_type": "code",
   "execution_count": null,
   "metadata": {},
   "outputs": [],
   "source": [
    "train_results = model.train(\n",
    "    data=data_file,\n",
    "    epochs=num_epochs,\n",
    "    close_mosaic=0,\n",
    "    dropout=0.25,\n",
    "    device=0,\n",
    "    freeze=6,\n",
    "    optimizer=\"AdamW\",\n",
    "    lr0=1e-4,\n",
    "    lrf=1e-3,  \n",
    "    cos_lr=True,\n",
    "    warmup_epochs=2,\n",
    "    name=experiment_name,\n",
    "    erasing=0,\n",
    ")\n",
    "train_results"
   ]
  },
  {
   "cell_type": "code",
   "execution_count": null,
   "metadata": {},
   "outputs": [],
   "source": [
    "val_results = model.val(data=data_file, split='val')\n",
    "val_results"
   ]
  },
  {
   "cell_type": "code",
   "execution_count": null,
   "metadata": {},
   "outputs": [],
   "source": [
    "test_results = model.val(data=data_file, split='test')\n",
    "test_results"
   ]
  },
  {
   "cell_type": "code",
   "execution_count": null,
   "metadata": {},
   "outputs": [],
   "source": [
    "# Export the model to ONNX format\n",
    "success = model.export(format='onnx')"
   ]
  }
 ],
 "metadata": {
  "kernelspec": {
   "display_name": "torch",
   "language": "python",
   "name": "python3"
  },
  "language_info": {
   "codemirror_mode": {
    "name": "ipython",
    "version": 3
   },
   "file_extension": ".py",
   "mimetype": "text/x-python",
   "name": "python",
   "nbconvert_exporter": "python",
   "pygments_lexer": "ipython3",
   "version": "3.9.18"
  }
 },
 "nbformat": 4,
 "nbformat_minor": 2
}
