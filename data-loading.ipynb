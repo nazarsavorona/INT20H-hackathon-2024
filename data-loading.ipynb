{
 "cells": [
  {
   "cell_type": "code",
   "execution_count": 3,
   "metadata": {},
   "outputs": [],
   "source": [
    "import pandas as pd\n",
    "import os\n",
    "import opendatasets as od"
   ]
  },
  {
   "cell_type": "markdown",
   "metadata": {},
   "source": [
    "`kaggle.json` is a file that contains your Kaggle API credentials. You can create it by going to your Kaggle account and clicking on `Create New API Token`. This will download the file on your computer."
   ]
  },
  {
   "cell_type": "code",
   "execution_count": 4,
   "metadata": {},
   "outputs": [],
   "source": [
    "dataset = 'https://www.kaggle.com/c/rsna-pneumonia-detection-challenge'\n",
    "\n",
    "creds = pd.read_json('kaggle.json', typ='series')"
   ]
  },
  {
   "cell_type": "code",
   "execution_count": 5,
   "metadata": {},
   "outputs": [],
   "source": [
    "folder = dataset.split('/')[-1]\n",
    "\n",
    "if not os.path.exists(folder):\n",
    "    od.download(dataset, username=creds['username'], key=creds['key'])"
   ]
  }
 ],
 "metadata": {
  "kernelspec": {
   "display_name": "tf",
   "language": "python",
   "name": "python3"
  },
  "language_info": {
   "codemirror_mode": {
    "name": "ipython",
    "version": 3
   },
   "file_extension": ".py",
   "mimetype": "text/x-python",
   "name": "python",
   "nbconvert_exporter": "python",
   "pygments_lexer": "ipython3",
   "version": "3.9.18"
  }
 },
 "nbformat": 4,
 "nbformat_minor": 2
}
