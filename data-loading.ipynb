{
 "cells": [
  {
   "cell_type": "code",
   "execution_count": 1,
   "metadata": {
    "ExecuteTime": {
     "end_time": "2024-02-07T22:29:15.704676200Z",
     "start_time": "2024-02-07T22:29:15.325324Z"
    }
   },
   "outputs": [],
   "source": [
    "import pandas as pd\n",
    "import os\n",
    "import opendatasets as od"
   ]
  },
  {
   "cell_type": "markdown",
   "metadata": {},
   "source": [
    "`kaggle.json` is a file that contains your Kaggle API credentials. You can create it by going to your Kaggle account and clicking on `Create New API Token`. This will download the file on your computer."
   ]
  },
  {
   "cell_type": "code",
   "execution_count": 2,
   "metadata": {
    "ExecuteTime": {
     "end_time": "2024-02-07T22:29:15.715162400Z",
     "start_time": "2024-02-07T22:29:15.705684Z"
    }
   },
   "outputs": [],
   "source": [
    "dataset = 'https://www.kaggle.com/c/rsna-pneumonia-detection-challenge'\n",
    "\n",
    "creds = pd.read_json('kaggle.json', typ='series')"
   ]
  },
  {
   "cell_type": "code",
   "execution_count": 3,
   "metadata": {
    "ExecuteTime": {
     "end_time": "2024-02-07T22:32:54.353316200Z",
     "start_time": "2024-02-07T22:29:15.714656500Z"
    }
   },
   "outputs": [
    {
     "name": "stdout",
     "output_type": "stream",
     "text": [
      "Downloading rsna-pneumonia-detection-challenge.zip to .\\rsna-pneumonia-detection-challenge\n"
     ]
    },
    {
     "name": "stderr",
     "output_type": "stream",
     "text": [
      "100%|██████████| 3.66G/3.66G [03:21<00:00, 19.5MB/s]\n"
     ]
    },
    {
     "name": "stdout",
     "output_type": "stream",
     "text": [
      "\n",
      "Extracting archive .\\rsna-pneumonia-detection-challenge/rsna-pneumonia-detection-challenge.zip to .\\rsna-pneumonia-detection-challenge\n"
     ]
    }
   ],
   "source": [
    "folder = dataset.split('/')[-1]\n",
    "\n",
    "if not os.path.exists(folder):\n",
    "    od.download(dataset, username=creds['username'], key=creds['key'])"
   ]
  }
 ],
 "metadata": {
  "kernelspec": {
   "display_name": "tf",
   "language": "python",
   "name": "python3"
  },
  "language_info": {
   "codemirror_mode": {
    "name": "ipython",
    "version": 3
   },
   "file_extension": ".py",
   "mimetype": "text/x-python",
   "name": "python",
   "nbconvert_exporter": "python",
   "pygments_lexer": "ipython3",
   "version": "3.9.18"
  }
 },
 "nbformat": 4,
 "nbformat_minor": 2
}
